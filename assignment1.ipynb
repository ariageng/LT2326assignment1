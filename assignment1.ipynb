{
 "cells": [
  {
   "cell_type": "code",
   "execution_count": 1,
   "metadata": {},
   "outputs": [],
   "source": [
    "import os\n",
    "import sys\n",
    "import argparse"
   ]
  },
  {
   "cell_type": "code",
   "execution_count": 2,
   "metadata": {},
   "outputs": [
    {
     "name": "stdout",
     "output_type": "stream",
     "text": [
      "/home/gusgenti@GU.GU.SE/gusgenti/LT2326/assignment1\n",
      "True\n"
     ]
    }
   ],
   "source": [
    "ThaiOCR_TrainingSet_Folder_Path = \"../../../../../scratch/lt2326-2926-h24/ThaiOCR/ThaiOCR-TrainigSet\"\n",
    "\n",
    "print(os.getcwd()) \n",
    "print(os.path.exists(ThaiOCR_TrainingSet_Folder_Path))"
   ]
  },
  {
   "cell_type": "code",
   "execution_count": 3,
   "metadata": {},
   "outputs": [
    {
     "name": "stdout",
     "output_type": "stream",
     "text": [
      "['Special.zip', 'Thai.zip', 'English.zip', 'Numeric.zip', '20110202-List-Code-Character-OCR-Training-Database.txt']\n"
     ]
    }
   ],
   "source": [
    "\n"
   ]
  }
 ],
 "metadata": {
  "kernelspec": {
   "display_name": "Python 3 (ipykernel)",
   "language": "python",
   "name": "python3"
  },
  "language_info": {
   "codemirror_mode": {
    "name": "ipython",
    "version": 3
   },
   "file_extension": ".py",
   "mimetype": "text/x-python",
   "name": "python",
   "nbconvert_exporter": "python",
   "pygments_lexer": "ipython3",
   "version": "3.12.3"
  }
 },
 "nbformat": 4,
 "nbformat_minor": 2
}
